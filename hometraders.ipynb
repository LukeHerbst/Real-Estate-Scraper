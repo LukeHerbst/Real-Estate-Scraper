{
 "cells": [
  {
   "cell_type": "code",
   "execution_count": 2,
   "metadata": {},
   "outputs": [],
   "source": [
    "from selenium import webdriver\n",
    "from webdriver_manager.chrome import ChromeDriverManager\n",
    "from selenium.webdriver.support.ui import WebDriverWait\n",
    "import time\n",
    "from selenium.webdriver.common.by import By\n",
    "from bs4 import BeautifulSoup\n",
    "from selenium.webdriver.support import expected_conditions as EC\n",
    "import bs4\n",
    "import re\n",
    "from selenium.webdriver.common.keys import Keys"
   ]
  },
  {
   "cell_type": "code",
   "execution_count": 39,
   "metadata": {},
   "outputs": [
    {
     "name": "stderr",
     "output_type": "stream",
     "text": [
      "<ipython-input-39-b25a0fc41d75>:5: DeprecationWarning: executable_path has been deprecated, please pass in a Service object\n",
      "  driver = webdriver.Chrome(ChromeDriverManager().install())\n"
     ]
    }
   ],
   "source": [
    "# Webdriver\n",
    "def setup_driver():\n",
    "    \"\"\"\"start the chrome driver and go to sahometraders.co.za/to-rent\n",
    "    \"\"\"\n",
    "    driver = webdriver.Chrome(ChromeDriverManager().install())\n",
    "    driver.implicitly_wait(5)\n",
    "    driver.get('https://www.sahometraders.co.za/to-rent')\n",
    "    time.sleep(2)\n",
    "    return driver\n",
    "driver = setup_driver() \n",
    "\n"
   ]
  },
  {
   "cell_type": "code",
   "execution_count": 43,
   "metadata": {},
   "outputs": [],
   "source": [
    "suburbs_url_dict = {\n",
    "                    \"Sea Point\":\"https://www.sahometraders.co.za/property-to-rent-in-sea-point-s11021\",\n",
    "                    \"Gardens\":\"https://www.sahometraders.co.za/property-to-rent-in-gardens-s9145\",\n",
    "                    \"Green Point\": \"https://www.sahometraders.co.za/property-to-rent-in-green-point-s11017\"\n",
    "                    }"
   ]
  },
  {
   "cell_type": "code",
   "execution_count": 40,
   "metadata": {},
   "outputs": [],
   "source": [
    "suburbs= (\"Sea Point\",'Green Point',\"Gardens\")\n",
    "# we already have the base urls so we move straight to making the soup \n",
    "\n"
   ]
  },
  {
   "cell_type": "code",
   "execution_count": 44,
   "metadata": {},
   "outputs": [
    {
     "data": {
      "text/plain": [
       "'https://www.sahometraders.co.za/property-to-rent-in-sea-point-s11021'"
      ]
     },
     "execution_count": 44,
     "metadata": {},
     "output_type": "execute_result"
    }
   ],
   "source": [
    "base_url = suburbs_url_dict[suburbs[0]]\n",
    "base_url\n",
    "\n"
   ]
  },
  {
   "cell_type": "code",
   "execution_count": 47,
   "metadata": {},
   "outputs": [],
   "source": [
    "def make_soup(driver):\n",
    "    \n",
    "    soup = BeautifulSoup(driver.page_source,\"html.parser\")\n",
    "    body_soup = soup.body\n",
    "    return body_soup"
   ]
  },
  {
   "cell_type": "code",
   "execution_count": 73,
   "metadata": {},
   "outputs": [],
   "source": [
    "body_soup = make_soup(driver)"
   ]
  },
  {
   "cell_type": "code",
   "execution_count": 62,
   "metadata": {},
   "outputs": [],
   "source": [
    "def number_of_pages(body_soup:bs4.element.Tag) -> int:\n",
    "    \"\"\"\"find the number of listed places in the search to figure out how many pages to crawl\"\"\"\n",
    "    listingcount_options = body_soup.find(\"div\",{'class':\"sc_pageText\"})\n",
    "    \n",
    "    \n",
    "    split_counts = re.findall('\\d+',listingcount_options.text)\n",
    "    \n",
    "    this_page = int(split_counts[1])\n",
    "    total_listings = int(split_counts[-1])\n",
    "    pages_to_search = -(-total_listings//this_page)\n",
    "    return pages_to_search"
   ]
  },
  {
   "cell_type": "code",
   "execution_count": 63,
   "metadata": {},
   "outputs": [],
   "source": [
    "page_count = number_of_pages(body_soup)\n",
    "# add ?Page=2 to the end of the base url \n"
   ]
  },
  {
   "cell_type": "code",
   "execution_count": 64,
   "metadata": {},
   "outputs": [],
   "source": [
    "def make_subsequent_urls(page_count,base_url):\n",
    "    urls_list = []\n",
    "    for i in range(2,page_count+1):\n",
    "        # i will be our page numbers to shoot into the url. \n",
    "        next_url = base_url + f\"?Page={i}\"\n",
    "        urls_list.append(next_url) \n",
    "    return urls_list\n",
    "urls_list = make_subsequent_urls(page_count=page_count,base_url=base_url)"
   ]
  },
  {
   "cell_type": "code",
   "execution_count": 65,
   "metadata": {},
   "outputs": [
    {
     "data": {
      "text/plain": [
       "['https://www.sahometraders.co.za/property-to-rent-in-sea-point-s11021?Page=2',\n",
       " 'https://www.sahometraders.co.za/property-to-rent-in-sea-point-s11021?Page=3',\n",
       " 'https://www.sahometraders.co.za/property-to-rent-in-sea-point-s11021?Page=4',\n",
       " 'https://www.sahometraders.co.za/property-to-rent-in-sea-point-s11021?Page=5',\n",
       " 'https://www.sahometraders.co.za/property-to-rent-in-sea-point-s11021?Page=6',\n",
       " 'https://www.sahometraders.co.za/property-to-rent-in-sea-point-s11021?Page=7',\n",
       " 'https://www.sahometraders.co.za/property-to-rent-in-sea-point-s11021?Page=8',\n",
       " 'https://www.sahometraders.co.za/property-to-rent-in-sea-point-s11021?Page=9',\n",
       " 'https://www.sahometraders.co.za/property-to-rent-in-sea-point-s11021?Page=10']"
      ]
     },
     "execution_count": 65,
     "metadata": {},
     "output_type": "execute_result"
    }
   ],
   "source": [
    "urls_list # sweeeet "
   ]
  },
  {
   "cell_type": "code",
   "execution_count": 106,
   "metadata": {},
   "outputs": [
    {
     "data": {
      "text/plain": [
       "'https://www.sahometraders.co.za/commercial-property-to-rent-in-green-point-112231165'"
      ]
     },
     "execution_count": 106,
     "metadata": {},
     "output_type": "execute_result"
    }
   ],
   "source": [
    "d = {'title':'','priceDescription':'','priceAdditionalDescriptor':'', 'suburb':'',\n",
    "           'number_of_bedrooms':'','number_of_bathrooms':'','number_of_garages':'',\"size\":\"\",\n",
    "           'available_from':'',\"url\":\"\",}\n",
    "url_info =body_soup.find_all(\"div\",{'class':\"p24_regularTile\"})\n",
    "url_info[3].find('a')[\"href\"]\n",
    "\"https://www.sahometraders.co.za\" + url_info[3].find('a')[\"href\"]"
   ]
  },
  {
   "cell_type": "code",
   "execution_count": 107,
   "metadata": {},
   "outputs": [],
   "source": [
    "import pandas as pd\n",
    "def extract_listing_info(soup_body):\n",
    "  \"\"\" Extract info from all listings on one page of property24.com/to-rent\n",
    "      \n",
    "  \"\"\"\n",
    "  data = []\n",
    "    \n",
    "\n",
    "  # FIND ALL listings \n",
    "  info_of_listings = soup_body.find_all(['div',\"span\",\"a\"],{'class',\"p24_content\"}) # seems to be only span, but will just leave the divs and a there \n",
    "  image_info = soup_body.find_all(['span','div'],{\"class\":\"js_listingTileImageHolder\"}) # need to find a waty to get rid of the duplicate\n",
    "  url_info =soup_body.find_all(\"div\",{'class':\"p24_regularTile\"}) # get the href out of there\n",
    "  # so far no promoted tiles, unlike P24\n",
    "  print('len(info_of_listings)',len(info_of_listings),\"len(image_info)\",len(image_info),\"len(url_info)\",len(url_info))\n",
    "  print('len(info_of_listings)',len(set(info_of_listings)),\"len(image_info)\",len(set(image_info)),\"len(url_info)\",len(set(url_info)))\n",
    "  # so on page 2 of Greenpoint, suddenly there is one less in the info of listings. \n",
    "  # Which means it actually wasn't duplicated for once, but still it causes problems\n",
    "  # we need to remove the duplicates earlier\n",
    "  assert len(info_of_listings)== len(image_info)==len(url_info)\n",
    "  print(\"BATCH SIZE:\", len(info_of_listings))\n",
    "  \n",
    "\n",
    "  # Extracting to a dictionary\n",
    "  counter = 0 \n",
    "  for i,j,k in zip(info_of_listings,image_info,url_info): \n",
    "    # time will tell if the duplicate is giving us problems or if it's the same one every page then we can just delete it at the end \n",
    "      d = {'title':'','priceDescription':'','priceAdditionalDescriptor':'', 'suburb':'',\n",
    "           'number_of_bedrooms':'','number_of_bathrooms':'','number_of_garages':'',\"size\":\"\",\n",
    "           'available_from':'',\"url\":\"\",}  \n",
    "           \n",
    "      \n",
    "      # we need an or for the available from or available now flags\n",
    "      try:\n",
    "        d['title']                      = i.find(['span'],{\"class\":'p24_propertyTitle'}).text \n",
    "        d['priceDescription']           =i.find('span',{\"class\":'p24_price'}).text.strip()\n",
    "        if i.find('span',{\"class\":\"left rentalTerm p24_rentalTerm\"}): \n",
    "          d['priceAdditionalDescriptor']  = i.find(['div','span'],{\"class\":\"left rentalTerm p24_rentalTerm\"}).text\n",
    "        else: \n",
    "          d['priceAdditionalDescriptor'] = None\n",
    "          \n",
    "        d['suburb']                     = i.find('span',{\"class\":\"p24_location\"}).text\n",
    "\n",
    "        if i.find(\"span\",{\"class\":\"p24_featureDetails\",\"title\":\"Bedrooms\"}):\n",
    "          d['number_of_bedrooms']         = i.find(\"span\",{\"class\":\"p24_featureDetails\",\"title\":\"Bedrooms\"}).text.strip()\n",
    "        else: \n",
    "          d['number_of_bedrooms'] = None\n",
    "        \n",
    "        if i.find(\"span\",{\"class\":\"p24_featureDetails\",\"title\":\"Bathrooms\"}):\n",
    "          d['number_of_bathrooms']        = i.find(\"span\",{\"class\":\"p24_featureDetails\",\"title\":\"Bathrooms\"}).text.strip()\n",
    "        else: d['number_of_bathrooms'] = None\n",
    "        \n",
    "        if i.find(\"span\",{\"class\":\"p24_featureDetails\",\"title\":\"Parking Spaces\"}):\n",
    "          d['number_of_garages']          = i.find(\"span\",{\"class\":\"p24_featureDetails\",\"title\":\"Parking Spaces\"}).text.strip()\n",
    "        else: d['number_of_garages'] = None\n",
    "        \n",
    "        if i.find(\"span\",{\"class\":\"p24_size\"}):\n",
    "          d['size'] = i.find(\"span\",{\"class\":\"p24_size\"}).text.strip() # floor size for apartments and houses, commerical property sometimes has\n",
    "                                                                      #floor size and sometimes has gross-lettable-area. could split in future if needed\n",
    "        else:\n",
    "          d[\"size\"] = None \n",
    "\n",
    "        if j.find('li',{\"class\":\"p24_availableBadge\"}):\n",
    "          d['available_from']   = j.find('li',{\"class\":\"p24_availableBadge\"}).text\n",
    "        else:\n",
    "          d['available_from'] = None\n",
    "        \n",
    "        \n",
    "\n",
    "        \n",
    "        \n",
    "        d['url']              = \"https://www.sahometraders.co.za\" + url_info[3].find('a')[\"href\"]\n",
    "         \n",
    "        \n",
    "      except Exception as e: \n",
    "        print(e)\n",
    "      data.append(d) \n",
    "      counter +=1  \n",
    "  return data "
   ]
  },
  {
   "cell_type": "code",
   "execution_count": 113,
   "metadata": {},
   "outputs": [],
   "source": [
    "def main():\n",
    "    #steps\n",
    "    all_data = []\n",
    "    # go to url and get throught the cookie\n",
    "    driver  = setup_driver()\n",
    "    # choose the suburb from a list \n",
    "    suburbs= (\"Sea Point\",'Green Point',\"Gardens\")\n",
    "    suburbs_url_dict = {\n",
    "                    \"Sea Point\":\"https://www.sahometraders.co.za/property-to-rent-in-sea-point-s11021\",\n",
    "                    \"Gardens\":\"https://www.sahometraders.co.za/property-to-rent-in-gardens-s9145\",\n",
    "                    \"Green Point\": \"https://www.sahometraders.co.za/property-to-rent-in-green-point-s11017\"\n",
    "                    }\n",
    "    for suburb in suburbs:\n",
    "        base_url = suburbs_url_dict[suburb]\n",
    "        time.sleep(4)\n",
    "        driver.get(base_url)\n",
    "        soup_body = make_soup(driver) \n",
    "        number_of_pages_to_search = number_of_pages(soup_body)\n",
    "        other_urls_list = make_subsequent_urls(number_of_pages_to_search,base_url)\n",
    "\n",
    "        #get info from one page \n",
    "        data = extract_listing_info(soup_body)\n",
    "        all_data.extend(data)\n",
    "        \n",
    "        for url in other_urls_list:\n",
    "            driver.get(url)\n",
    "            next_soup_body  = make_soup(driver)\n",
    "            data_next = extract_listing_info(next_soup_body)\n",
    "            all_data.extend(data_next)\n",
    "        \n",
    "        time.sleep(5)\n",
    "        \n",
    "        \n",
    "    driver.close()\n",
    "    df = pd.DataFrame(all_data,index = range(len(all_data)))\n",
    "    \n",
    "    return df"
   ]
  },
  {
   "cell_type": "code",
   "execution_count": 114,
   "metadata": {},
   "outputs": [
    {
     "name": "stderr",
     "output_type": "stream",
     "text": [
      "<ipython-input-39-b25a0fc41d75>:5: DeprecationWarning: executable_path has been deprecated, please pass in a Service object\n",
      "  driver = webdriver.Chrome(ChromeDriverManager().install())\n"
     ]
    },
    {
     "name": "stdout",
     "output_type": "stream",
     "text": [
      "len(info_of_listings) 21 len(image_info) 21 len(url_info) 21\n",
      "len(info_of_listings) 21 len(image_info) 20 len(url_info) 21\n",
      "BATCH SIZE: 21\n",
      "len(info_of_listings) 21 len(image_info) 21 len(url_info) 21\n",
      "len(info_of_listings) 21 len(image_info) 20 len(url_info) 21\n",
      "BATCH SIZE: 21\n",
      "len(info_of_listings) 21 len(image_info) 21 len(url_info) 21\n",
      "len(info_of_listings) 21 len(image_info) 16 len(url_info) 21\n",
      "BATCH SIZE: 21\n",
      "len(info_of_listings) 21 len(image_info) 21 len(url_info) 21\n",
      "len(info_of_listings) 21 len(image_info) 20 len(url_info) 21\n",
      "BATCH SIZE: 21\n",
      "len(info_of_listings) 21 len(image_info) 21 len(url_info) 21\n",
      "len(info_of_listings) 21 len(image_info) 20 len(url_info) 21\n",
      "BATCH SIZE: 21\n",
      "len(info_of_listings) 21 len(image_info) 21 len(url_info) 21\n",
      "len(info_of_listings) 21 len(image_info) 19 len(url_info) 21\n",
      "BATCH SIZE: 21\n",
      "len(info_of_listings) 21 len(image_info) 21 len(url_info) 21\n",
      "len(info_of_listings) 21 len(image_info) 20 len(url_info) 21\n",
      "BATCH SIZE: 21\n",
      "len(info_of_listings) 21 len(image_info) 21 len(url_info) 21\n",
      "len(info_of_listings) 21 len(image_info) 20 len(url_info) 21\n",
      "BATCH SIZE: 21\n",
      "len(info_of_listings) 21 len(image_info) 21 len(url_info) 21\n",
      "len(info_of_listings) 21 len(image_info) 19 len(url_info) 21\n",
      "BATCH SIZE: 21\n",
      "len(info_of_listings) 21 len(image_info) 21 len(url_info) 21\n",
      "len(info_of_listings) 21 len(image_info) 19 len(url_info) 21\n",
      "BATCH SIZE: 21\n",
      "len(info_of_listings) 21 len(image_info) 21 len(url_info) 21\n",
      "len(info_of_listings) 21 len(image_info) 19 len(url_info) 21\n",
      "BATCH SIZE: 21\n",
      "len(info_of_listings) 21 len(image_info) 21 len(url_info) 21\n",
      "len(info_of_listings) 21 len(image_info) 18 len(url_info) 21\n",
      "BATCH SIZE: 21\n",
      "len(info_of_listings) 21 len(image_info) 21 len(url_info) 21\n",
      "len(info_of_listings) 21 len(image_info) 18 len(url_info) 21\n",
      "BATCH SIZE: 21\n",
      "len(info_of_listings) 7 len(image_info) 7 len(url_info) 7\n",
      "len(info_of_listings) 7 len(image_info) 6 len(url_info) 7\n",
      "BATCH SIZE: 7\n",
      "len(info_of_listings) 21 len(image_info) 21 len(url_info) 21\n",
      "len(info_of_listings) 21 len(image_info) 20 len(url_info) 21\n",
      "BATCH SIZE: 21\n",
      "len(info_of_listings) 21 len(image_info) 21 len(url_info) 21\n",
      "len(info_of_listings) 21 len(image_info) 20 len(url_info) 21\n",
      "BATCH SIZE: 21\n",
      "len(info_of_listings) 21 len(image_info) 21 len(url_info) 21\n",
      "len(info_of_listings) 21 len(image_info) 20 len(url_info) 21\n",
      "BATCH SIZE: 21\n",
      "len(info_of_listings) 21 len(image_info) 21 len(url_info) 21\n",
      "len(info_of_listings) 21 len(image_info) 20 len(url_info) 21\n",
      "BATCH SIZE: 21\n",
      "len(info_of_listings) 21 len(image_info) 21 len(url_info) 21\n",
      "len(info_of_listings) 21 len(image_info) 20 len(url_info) 21\n",
      "BATCH SIZE: 21\n",
      "len(info_of_listings) 21 len(image_info) 21 len(url_info) 21\n",
      "len(info_of_listings) 21 len(image_info) 19 len(url_info) 21\n",
      "BATCH SIZE: 21\n",
      "len(info_of_listings) 21 len(image_info) 21 len(url_info) 21\n",
      "len(info_of_listings) 21 len(image_info) 20 len(url_info) 21\n",
      "BATCH SIZE: 21\n",
      "len(info_of_listings) 21 len(image_info) 21 len(url_info) 21\n",
      "len(info_of_listings) 21 len(image_info) 19 len(url_info) 21\n",
      "BATCH SIZE: 21\n",
      "len(info_of_listings) 21 len(image_info) 21 len(url_info) 21\n",
      "len(info_of_listings) 21 len(image_info) 20 len(url_info) 21\n",
      "BATCH SIZE: 21\n",
      "len(info_of_listings) 9 len(image_info) 9 len(url_info) 9\n",
      "len(info_of_listings) 9 len(image_info) 8 len(url_info) 9\n",
      "BATCH SIZE: 9\n",
      "len(info_of_listings) 21 len(image_info) 21 len(url_info) 21\n",
      "len(info_of_listings) 21 len(image_info) 20 len(url_info) 21\n",
      "BATCH SIZE: 21\n",
      "len(info_of_listings) 21 len(image_info) 21 len(url_info) 21\n",
      "len(info_of_listings) 21 len(image_info) 19 len(url_info) 21\n",
      "BATCH SIZE: 21\n",
      "len(info_of_listings) 21 len(image_info) 21 len(url_info) 21\n",
      "len(info_of_listings) 21 len(image_info) 20 len(url_info) 21\n",
      "BATCH SIZE: 21\n",
      "len(info_of_listings) 21 len(image_info) 21 len(url_info) 21\n",
      "len(info_of_listings) 21 len(image_info) 20 len(url_info) 21\n",
      "BATCH SIZE: 21\n",
      "len(info_of_listings) 21 len(image_info) 21 len(url_info) 21\n",
      "len(info_of_listings) 21 len(image_info) 20 len(url_info) 21\n",
      "BATCH SIZE: 21\n",
      "len(info_of_listings) 21 len(image_info) 21 len(url_info) 21\n",
      "len(info_of_listings) 21 len(image_info) 19 len(url_info) 21\n",
      "BATCH SIZE: 21\n",
      "len(info_of_listings) 21 len(image_info) 21 len(url_info) 21\n",
      "len(info_of_listings) 21 len(image_info) 19 len(url_info) 21\n",
      "BATCH SIZE: 21\n",
      "len(info_of_listings) 21 len(image_info) 21 len(url_info) 21\n",
      "len(info_of_listings) 21 len(image_info) 20 len(url_info) 21\n",
      "BATCH SIZE: 21\n",
      "len(info_of_listings) 21 len(image_info) 21 len(url_info) 21\n",
      "len(info_of_listings) 21 len(image_info) 20 len(url_info) 21\n",
      "BATCH SIZE: 21\n",
      "len(info_of_listings) 11 len(image_info) 11 len(url_info) 11\n",
      "len(info_of_listings) 11 len(image_info) 10 len(url_info) 11\n",
      "BATCH SIZE: 11\n"
     ]
    }
   ],
   "source": [
    "df = main()"
   ]
  },
  {
   "cell_type": "code",
   "execution_count": 116,
   "metadata": {},
   "outputs": [
    {
     "data": {
      "text/html": [
       "<div>\n",
       "<style scoped>\n",
       "    .dataframe tbody tr th:only-of-type {\n",
       "        vertical-align: middle;\n",
       "    }\n",
       "\n",
       "    .dataframe tbody tr th {\n",
       "        vertical-align: top;\n",
       "    }\n",
       "\n",
       "    .dataframe thead th {\n",
       "        text-align: right;\n",
       "    }\n",
       "</style>\n",
       "<table border=\"1\" class=\"dataframe\">\n",
       "  <thead>\n",
       "    <tr style=\"text-align: right;\">\n",
       "      <th></th>\n",
       "      <th>title</th>\n",
       "      <th>priceDescription</th>\n",
       "      <th>priceAdditionalDescriptor</th>\n",
       "      <th>suburb</th>\n",
       "      <th>number_of_bedrooms</th>\n",
       "      <th>number_of_bathrooms</th>\n",
       "      <th>number_of_garages</th>\n",
       "      <th>size</th>\n",
       "      <th>available_from</th>\n",
       "      <th>url</th>\n",
       "    </tr>\n",
       "  </thead>\n",
       "  <tbody>\n",
       "    <tr>\n",
       "      <th>673</th>\n",
       "      <td>Commercial Property</td>\n",
       "      <td>R 11 500</td>\n",
       "      <td>None</td>\n",
       "      <td>Gardens</td>\n",
       "      <td>None</td>\n",
       "      <td>None</td>\n",
       "      <td>None</td>\n",
       "      <td>89 m²</td>\n",
       "      <td>AVAILABLE NOW</td>\n",
       "      <td>https://www.sahometraders.co.za/commercial-pro...</td>\n",
       "    </tr>\n",
       "    <tr>\n",
       "      <th>674</th>\n",
       "      <td>Commercial Property</td>\n",
       "      <td>R 51 216</td>\n",
       "      <td>None</td>\n",
       "      <td>Gardens</td>\n",
       "      <td>None</td>\n",
       "      <td>None</td>\n",
       "      <td>None</td>\n",
       "      <td>338 m²</td>\n",
       "      <td>AVAILABLE NOW</td>\n",
       "      <td>https://www.sahometraders.co.za/commercial-pro...</td>\n",
       "    </tr>\n",
       "    <tr>\n",
       "      <th>675</th>\n",
       "      <td>Commercial Property</td>\n",
       "      <td>R 7 140</td>\n",
       "      <td>None</td>\n",
       "      <td>Gardens</td>\n",
       "      <td>None</td>\n",
       "      <td>None</td>\n",
       "      <td>None</td>\n",
       "      <td>102 m²</td>\n",
       "      <td>AVAILABLE NOW</td>\n",
       "      <td>https://www.sahometraders.co.za/commercial-pro...</td>\n",
       "    </tr>\n",
       "    <tr>\n",
       "      <th>676</th>\n",
       "      <td>Commercial Property</td>\n",
       "      <td>R 7 326</td>\n",
       "      <td>None</td>\n",
       "      <td>Gardens</td>\n",
       "      <td>None</td>\n",
       "      <td>None</td>\n",
       "      <td>None</td>\n",
       "      <td>37 m²</td>\n",
       "      <td>AVAILABLE NOW</td>\n",
       "      <td>https://www.sahometraders.co.za/commercial-pro...</td>\n",
       "    </tr>\n",
       "    <tr>\n",
       "      <th>677</th>\n",
       "      <td>Commercial Property</td>\n",
       "      <td>R 9 240</td>\n",
       "      <td>None</td>\n",
       "      <td>Gardens</td>\n",
       "      <td>None</td>\n",
       "      <td>None</td>\n",
       "      <td>None</td>\n",
       "      <td>132 m²</td>\n",
       "      <td>AVAILABLE NOW</td>\n",
       "      <td>https://www.sahometraders.co.za/commercial-pro...</td>\n",
       "    </tr>\n",
       "  </tbody>\n",
       "</table>\n",
       "</div>"
      ],
      "text/plain": [
       "                   title priceDescription priceAdditionalDescriptor   suburb  \\\n",
       "673  Commercial Property         R 11 500                      None  Gardens   \n",
       "674  Commercial Property         R 51 216                      None  Gardens   \n",
       "675  Commercial Property          R 7 140                      None  Gardens   \n",
       "676  Commercial Property          R 7 326                      None  Gardens   \n",
       "677  Commercial Property          R 9 240                      None  Gardens   \n",
       "\n",
       "    number_of_bedrooms number_of_bathrooms number_of_garages    size  \\\n",
       "673               None                None              None   89 m²   \n",
       "674               None                None              None  338 m²   \n",
       "675               None                None              None  102 m²   \n",
       "676               None                None              None   37 m²   \n",
       "677               None                None              None  132 m²   \n",
       "\n",
       "     available_from                                                url  \n",
       "673   AVAILABLE NOW  https://www.sahometraders.co.za/commercial-pro...  \n",
       "674   AVAILABLE NOW  https://www.sahometraders.co.za/commercial-pro...  \n",
       "675   AVAILABLE NOW  https://www.sahometraders.co.za/commercial-pro...  \n",
       "676   AVAILABLE NOW  https://www.sahometraders.co.za/commercial-pro...  \n",
       "677   AVAILABLE NOW  https://www.sahometraders.co.za/commercial-pro...  "
      ]
     },
     "execution_count": 116,
     "metadata": {},
     "output_type": "execute_result"
    }
   ],
   "source": [
    "df.tail(5)\n",
    "# sweet"
   ]
  },
  {
   "cell_type": "code",
   "execution_count": null,
   "metadata": {},
   "outputs": [],
   "source": []
  }
 ],
 "metadata": {
  "kernelspec": {
   "display_name": "facialrecognition",
   "language": "python",
   "name": "python3"
  },
  "language_info": {
   "codemirror_mode": {
    "name": "ipython",
    "version": 3
   },
   "file_extension": ".py",
   "mimetype": "text/x-python",
   "name": "python",
   "nbconvert_exporter": "python",
   "pygments_lexer": "ipython3",
   "version": "3.9.5"
  },
  "orig_nbformat": 4,
  "vscode": {
   "interpreter": {
    "hash": "9d06af454d08b66346fdc0088dbfa22abeec86368d60b6b2e3a0e5ba74b5a7f5"
   }
  }
 },
 "nbformat": 4,
 "nbformat_minor": 2
}
